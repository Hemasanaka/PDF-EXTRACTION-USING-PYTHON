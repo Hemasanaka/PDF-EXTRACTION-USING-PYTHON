{
 "cells": [
  {
   "cell_type": "code",
   "execution_count": 8,
   "id": "6cd88c8d-4f44-49f0-b80f-86f027b6702f",
   "metadata": {
    "tags": []
   },
   "outputs": [
    {
     "name": "stdout",
     "output_type": "stream",
     "text": [
      "                    File Name       Start Keyword         End Keyword  \\\n",
      "0  final peoject document.pdf    CHALLENGES FACED  TEXT PREPROCESSING   \n",
      "1  final peoject document.pdf  TEXT PREPROCESSING           MODELLING   \n",
      "2  final peoject document.pdf           MODELLING          CONCLUSION   \n",
      "3  final project document.pdf    CHALLENGES FACED  TEXT PREPROCESSING   \n",
      "4  final project document.pdf  TEXT PREPROCESSING           MODELLING   \n",
      "5  final project document.pdf           MODELLING          CONCLUSION   \n",
      "\n",
      "                                         Description  \n",
      "0  The primary challenges in the project arise fr...  \n",
      "1  The unstructured nature of the data can be tra...  \n",
      "2  To classify the problem description provided b...  \n",
      "3  The primary challenges in the project arise fr...  \n",
      "4  The unstructured nature of the data can be tra...  \n",
      "5  To classify the problem description provided b...  \n"
     ]
    }
   ],
   "source": [
    "import fitz  # PyMuPDF\n",
    "import pandas as pd\n",
    "import os\n",
    "\n",
    "def extract_text_between_keywords(pdf_path, start_keyword, end_keyword):\n",
    "    try:\n",
    "        with fitz.open(pdf_path) as doc:\n",
    "            full_text = \"\"\n",
    "            for page in doc:\n",
    "                blocks = page.get_text(\"blocks\")\n",
    "                blocks = sorted(blocks, key=lambda b: b[1])  # sort top to bottom\n",
    "\n",
    "                for block in blocks:\n",
    "                    x0, y0, x1, y1, text, *_ = block\n",
    "                    if y0 < 50 or y1 > (page.rect.height - 50):\n",
    "                        continue  # skip header/footer\n",
    "                    full_text += text.strip() + \"\\n\"\n",
    "    except Exception as e:\n",
    "        print(f\"Error reading {pdf_path}: {e}\")\n",
    "        return None\n",
    "\n",
    "    # Normalize for keyword search\n",
    "    norm_text = full_text.lower()\n",
    "    start_idx = norm_text.find(start_keyword.lower())\n",
    "    end_idx = norm_text.find(end_keyword.lower(), start_idx + len(start_keyword))\n",
    "\n",
    "    if start_idx == -1 or end_idx == -1:\n",
    "        return None\n",
    "\n",
    "    extracted = full_text[start_idx + len(start_keyword):end_idx].strip()\n",
    "    return extracted\n",
    "\n",
    "\n",
    "# === INPUT SECTION ===\n",
    "pdf_folder = \"C://Users//DELL//Documents//My Tableau Repository//Workbooks//Practicum\"\n",
    "keyword_pairs = [\n",
    "    (\"CHALLENGES FACED\", \"TEXT PREPROCESSING\"),\n",
    "    (\"TEXT PREPROCESSING\", \"MODELLING\"),\n",
    "    (\"MODELLING\", \"CONCLUSION\")\n",
    "]\n",
    "\n",
    "\n",
    "results = []\n",
    "for file in os.listdir(pdf_folder):\n",
    "    if file.endswith(\".pdf\"):\n",
    "        file_path = os.path.join(pdf_folder, file)\n",
    "        for start_kw, end_kw in keyword_pairs:\n",
    "            desc = extract_text_between_keywords(file_path, start_kw, end_kw)\n",
    "            results.append({\n",
    "                \"File Name\": file,\n",
    "                \"Start Keyword\": start_kw,\n",
    "                \"End Keyword\": end_kw,\n",
    "                \"Description\": desc if desc else \"Not Found\"\n",
    "            })\n",
    "\n",
    "\n",
    "df = pd.DataFrame(results)\n",
    "print(df)\n",
    "df.to_csv(\"extracted_pdf_sections.csv\", index=False)\n"
   ]
  },
  {
   "cell_type": "code",
   "execution_count": null,
   "id": "e1ccb6e1-0ba3-490c-a5a0-825d779dd7bb",
   "metadata": {},
   "outputs": [],
   "source": []
  },
  {
   "cell_type": "code",
   "execution_count": null,
   "id": "07b9d208-e421-4188-8387-fbb7e4226246",
   "metadata": {},
   "outputs": [],
   "source": []
  },
  {
   "cell_type": "code",
   "execution_count": null,
   "id": "d8760d6e-4ec8-491b-8aa8-eb142642e5b5",
   "metadata": {},
   "outputs": [],
   "source": []
  }
 ],
 "metadata": {
  "kernelspec": {
   "display_name": "Python 3 (ipykernel)",
   "language": "python",
   "name": "python3"
  },
  "language_info": {
   "codemirror_mode": {
    "name": "ipython",
    "version": 3
   },
   "file_extension": ".py",
   "mimetype": "text/x-python",
   "name": "python",
   "nbconvert_exporter": "python",
   "pygments_lexer": "ipython3",
   "version": "3.11.4"
  }
 },
 "nbformat": 4,
 "nbformat_minor": 5
}
